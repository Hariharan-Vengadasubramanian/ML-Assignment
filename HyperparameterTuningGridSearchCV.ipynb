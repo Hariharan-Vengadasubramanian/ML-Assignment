{
  "nbformat": 4,
  "nbformat_minor": 0,
  "metadata": {
    "colab": {
      "name": "HyperparameterTuningGridSearchCV.ipynb",
      "provenance": [],
      "collapsed_sections": [],
      "authorship_tag": "ABX9TyM0ScTsLvzZ+abDBspieiY+",
      "include_colab_link": true
    },
    "kernelspec": {
      "name": "python3",
      "display_name": "Python 3"
    },
    "language_info": {
      "name": "python"
    }
  },
  "cells": [
    {
      "cell_type": "markdown",
      "metadata": {
        "id": "view-in-github",
        "colab_type": "text"
      },
      "source": [
        "<a href=\"https://colab.research.google.com/github/Hariharan-Vengadasubramanian/ML-Assignment/blob/main/HyperparameterTuningGridSearchCV.ipynb\" target=\"_parent\"><img src=\"https://colab.research.google.com/assets/colab-badge.svg\" alt=\"Open In Colab\"/></a>"
      ]
    },
    {
      "cell_type": "markdown",
      "metadata": {
        "id": "mi65IUBRLb5_"
      },
      "source": [
        "#HyperParameter tuning using Grid Search Cross Validation method\n",
        "Hyperparameters - these are model configuration properties that define a model and remain constant during entire training of the model. \n",
        "its a part of model design. \n",
        "these values don't chnage.\n",
        "\n",
        "Model input  -- training data fed to model\n",
        "Model parameters - learnable parameters like co-efficient and intercept\n",
        "Model Hyperparameter -- model configuration like depth of Dec Tree or Number of neighbours \n",
        "GridSearch CV - looks thru possible value and evaluates each model using Cross Validation method and determines best model considering different hyperparameter.\n",
        "Computationally expensive. Each possible combination of parameters, a model is built and compared against others. \n",
        "Random Search Hyper parameter.\n",
        "Decision Tree Hyperparameters - Splitting strategy (Gini, Entropy)\n",
        "-- Max depth; -- Min samples split --- Min samples in leaf node -- Min Weight fraction --- Max features\n",
        "Logistic Regression - penalty, strength of regularization"
      ]
    },
    {
      "cell_type": "code",
      "metadata": {
        "id": "4YGVsgbAM4XC"
      },
      "source": [
        "from sklearn.model_selection import GridSearchCV\n",
        "from sklearn.tree import DecisionTreeClassifier\n",
        "\n",
        "### find best max depth \n",
        "parameters = {'Max Depth': [2,3,4,5,6]}\n",
        "#  cv=3 -- cross validation method, splits train data into 3 parts and each part holds unique data ; called as 3-fold validation\n",
        "# return_train_score -- default compare is Accuracy; we can change it to Precision score also\n",
        "grid_search = GridSearchCV(DecisionTreeClassifier(),parameters,cv=3, return_train_score=True)\n",
        "# fit data\n",
        "grid_search.fit(X_train,Y_train)\n",
        "# get best params\n",
        "grid_search.best_params_"
      ],
      "execution_count": 3,
      "outputs": []
    },
    {
      "cell_type": "code",
      "metadata": {
        "id": "jNyq_vrtPKRO"
      },
      "source": [
        "## this code will print model parameters ; 5 parameters are used\n",
        "for i in range(5):\n",
        "  print('Parameters:' grid_search.cv_results_['params'][i])\n",
        "  print('Accuracy:' grid_search.cv_results_['mean_test_score'][i])\n",
        "  print('Rank :' grid_search.cv_results_['rank_test_score'][i])\n"
      ],
      "execution_count": null,
      "outputs": []
    },
    {
      "cell_type": "markdown",
      "metadata": {
        "id": "sg6yPNz3iHOR"
      },
      "source": [
        "#Logistic Regression\n",
        "hyperparameter - penalty functions - l1 or l2 \n",
        "and C - strength of  regularization l1 or l2"
      ]
    },
    {
      "cell_type": "code",
      "metadata": {
        "id": "PheuoTh_tCEO"
      },
      "source": [
        "from sklearn.model_selection import GridSearchCV\n",
        "from sklearn.linear_model import LogisticRegression \n",
        "### find best max depth \n",
        "parameters = {'penalty': [l1,l2],\n",
        "              'C': [0.1,0.2,0.4,0.8,1,2,5]}\n",
        "#  cv=3 -- cross validation method, splits train data into 3 parts and each part holds unique data ; called as 3-fold validation\n",
        "# return_train_score -- default compare is Accuracy; we can change it to Precision score also\n",
        "grid_search = GridSearchCV(LogisticRegression(solver=liblinear),parameters,cv=3, return_train_score=True)\n",
        "# fit data\n",
        "grid_search.fit(X_train,Y_train)\n",
        "# get best_params \n",
        "grid_search.best_params_"
      ],
      "execution_count": null,
      "outputs": []
    },
    {
      "cell_type": "code",
      "metadata": {
        "id": "cTII_jJRty6S"
      },
      "source": [
        "## this code will print model parameters ; 5 parameters are used\n",
        "for i in range(14):\n",
        "  print('Parameters:' grid_search.cv_results_['params'][i])\n",
        "  print('Accuracy:' grid_search.cv_results_['mean_test_score'][i])\n",
        "  print('Rank :' grid_search.cv_results_['rank_test_score'][i])"
      ],
      "execution_count": null,
      "outputs": []
    }
  ]
}